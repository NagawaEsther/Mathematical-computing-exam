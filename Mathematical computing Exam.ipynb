{
 "cells": [
  {
   "cell_type": "markdown",
   "metadata": {},
   "source": [
    "# PRACTICAL QUESTION FOUR"
   ]
  },
  {
   "cell_type": "code",
   "execution_count": null,
   "metadata": {},
   "outputs": [],
   "source": [
    "# Construct a matrix below;as a numpy array\n",
    "[{1 ,0.2 ,0.5},{0.2,1,0.8},{0.5,0.8,1}]\n",
    "\n",
    "#compute an inversion of the matrix (Transpose)\n",
    "#Compute the (determinant)of the matrix if possible\n",
    "# Decompose the matrix\n",
    "#Transform the matrix"
   ]
  },
  {
   "cell_type": "code",
   "execution_count": 1,
   "metadata": {},
   "outputs": [],
   "source": [
    "import numpy as np"
   ]
  },
  {
   "cell_type": "code",
   "execution_count": 3,
   "metadata": {},
   "outputs": [
    {
     "name": "stdout",
     "output_type": "stream",
     "text": [
      "[[1.  0.2 0.5]\n",
      " [0.2 1.  0.8]\n",
      " [0.5 0.8 1. ]]\n"
     ]
    }
   ],
   "source": [
    "#Constructing the martix as a numpy array\n",
    "matrix=np.array([[1,0.2,0.5],[0.2,1,0.8],[0.5,0.8,1]])\n",
    "print(matrix)"
   ]
  },
  {
   "cell_type": "code",
   "execution_count": 6,
   "metadata": {},
   "outputs": [
    {
     "name": "stdout",
     "output_type": "stream",
     "text": [
      "Inverse of the matrix:\n",
      "[[ 1.56521739  0.86956522 -1.47826087]\n",
      " [ 0.86956522  3.26086957 -3.04347826]\n",
      " [-1.47826087 -3.04347826  4.17391304]]\n"
     ]
    }
   ],
   "source": [
    "#Compute an inversion of the matrix(Transpose)\n",
    "inverse=np.linalg.inv(matrix)\n",
    "print(\"Inverse of the matrix:\")\n",
    "print(inverse)"
   ]
  },
  {
   "cell_type": "code",
   "execution_count": 7,
   "metadata": {},
   "outputs": [
    {
     "name": "stdout",
     "output_type": "stream",
     "text": [
      "Determinant of the matrix:\n",
      "0.2299999999999999\n"
     ]
    }
   ],
   "source": [
    "#Compute the (determinant)of the matrix if possible\n",
    "determinant = np.linalg.det(matrix)\n",
    "print(\"Determinant of the matrix:\")\n",
    "print(determinant)"
   ]
  },
  {
   "cell_type": "code",
   "execution_count": 8,
   "metadata": {},
   "outputs": [
    {
     "name": "stdout",
     "output_type": "stream",
     "text": [
      "Eigenvalues of the matrix:\n",
      "[2.04100779 0.82188052 0.13711169]\n",
      "Eigenvectors of the matrix:\n",
      "[[-0.43721717 -0.85359707 -0.28321933]\n",
      " [-0.59931898  0.51133314 -0.61591816]\n",
      " [-0.67056536  0.09955128  0.73514055]]\n"
     ]
    }
   ],
   "source": [
    "#Decompose the matrix\n",
    "eigenvalues, eigenvectors = np.linalg.eig(matrix)\n",
    "print(\"Eigenvalues of the matrix:\")\n",
    "print(eigenvalues)\n",
    "\n",
    "print(\"Eigenvectors of the matrix:\")\n",
    "print(eigenvectors)\n"
   ]
  },
  {
   "cell_type": "code",
   "execution_count": 9,
   "metadata": {},
   "outputs": [
    {
     "name": "stdout",
     "output_type": "stream",
     "text": [
      "Transformed matrix:\n",
      "[[1.29 0.8  1.16]\n",
      " [0.8  1.68 1.7 ]\n",
      " [1.16 1.7  1.89]]\n"
     ]
    }
   ],
   "source": [
    "# Transform the matrix\n",
    "transformed_matrix = np.dot(matrix, matrix)\n",
    "print(\"Transformed matrix:\")\n",
    "print(transformed_matrix)"
   ]
  },
  {
   "cell_type": "markdown",
   "metadata": {},
   "source": [
    "# QUESTION FIVE"
   ]
  },
  {
   "cell_type": "code",
   "execution_count": null,
   "metadata": {},
   "outputs": [],
   "source": [
    "# Write a python program to solve three linear equations using matrices .You can use the numpy library for matrix operations"
   ]
  },
  {
   "cell_type": "code",
   "execution_count": 57,
   "metadata": {},
   "outputs": [],
   "source": [
    "import numpy as np"
   ]
  },
  {
   "cell_type": "code",
   "execution_count": 58,
   "metadata": {},
   "outputs": [
    {
     "name": "stdout",
     "output_type": "stream",
     "text": [
      "[[ 1  2 -5]\n",
      " [ 7 -9  3]\n",
      " [ 4  5 -2]]\n"
     ]
    }
   ],
   "source": [
    "# Define the coefficients matrix A\n",
    "A = np.array([[1, 2, -5],\n",
    "              [7, -9, 3],\n",
    "              [4, 5, -2]])\n",
    "print(A)\n"
   ]
  },
  {
   "cell_type": "code",
   "execution_count": 59,
   "metadata": {},
   "outputs": [
    {
     "name": "stdout",
     "output_type": "stream",
     "text": [
      "[ 4  2 -1]\n"
     ]
    }
   ],
   "source": [
    "# Define the constant terms vector B\n",
    "B=np.array([4,2,-1])\n",
    "print(B)"
   ]
  },
  {
   "cell_type": "code",
   "execution_count": 63,
   "metadata": {},
   "outputs": [
    {
     "name": "stdout",
     "output_type": "stream",
     "text": [
      "The solution is: [-0.03       -0.59333333 -1.04333333]\n"
     ]
    }
   ],
   "source": [
    "#Solve the linear equations Ax=B\n",
    "x=np.linalg.solve(A,B)\n",
    "print(\"The solution is:\", x)"
   ]
  }
 ],
 "metadata": {
  "kernelspec": {
   "display_name": "Python 3",
   "language": "python",
   "name": "python3"
  },
  "language_info": {
   "codemirror_mode": {
    "name": "ipython",
    "version": 3
   },
   "file_extension": ".py",
   "mimetype": "text/x-python",
   "name": "python",
   "nbconvert_exporter": "python",
   "pygments_lexer": "ipython3",
   "version": "3.11.4"
  }
 },
 "nbformat": 4,
 "nbformat_minor": 2
}
